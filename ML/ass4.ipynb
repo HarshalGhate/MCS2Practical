{
 "cells": [
  {
   "cell_type": "markdown",
   "id": "c01a3935",
   "metadata": {},
   "source": [
    "Write a python program to implement simple Linear Regression for predicting house\n",
    "price."
   ]
  },
  {
   "cell_type": "code",
   "execution_count": 1,
   "id": "11c2b120",
   "metadata": {},
   "outputs": [],
   "source": [
    "import pandas as pd\n",
    "import numpy as np\n",
    "import matplotlib.pyplot as plt\n",
    "%matplotlib inline"
   ]
  },
  {
   "cell_type": "code",
   "execution_count": 2,
   "id": "59ae08e2",
   "metadata": {},
   "outputs": [],
   "source": [
    "from sklearn.model_selection import train_test_split\n",
    "from sklearn.linear_model import LinearRegression\n",
    "import seaborn as sns"
   ]
  },
  {
   "cell_type": "code",
   "execution_count": 5,
   "id": "96f5dd36",
   "metadata": {},
   "outputs": [],
   "source": [
    "data=pd.read_csv('USA_Housing (1).csv')\n"
   ]
  },
  {
   "cell_type": "code",
   "execution_count": 8,
   "id": "063808e5",
   "metadata": {},
   "outputs": [
    {
     "name": "stdout",
     "output_type": "stream",
     "text": [
      "intecet 1232402.8065984936\n"
     ]
    },
    {
     "data": {
      "text/html": [
       "<div>\n",
       "<style scoped>\n",
       "    .dataframe tbody tr th:only-of-type {\n",
       "        vertical-align: middle;\n",
       "    }\n",
       "\n",
       "    .dataframe tbody tr th {\n",
       "        vertical-align: top;\n",
       "    }\n",
       "\n",
       "    .dataframe thead th {\n",
       "        text-align: right;\n",
       "    }\n",
       "</style>\n",
       "<table border=\"1\" class=\"dataframe\">\n",
       "  <thead>\n",
       "    <tr style=\"text-align: right;\">\n",
       "      <th></th>\n",
       "      <th>Coefficient</th>\n",
       "    </tr>\n",
       "  </thead>\n",
       "  <tbody>\n",
       "    <tr>\n",
       "      <th>Avg. Area Income</th>\n",
       "      <td>222573.584309</td>\n",
       "    </tr>\n",
       "  </tbody>\n",
       "</table>\n",
       "</div>"
      ],
      "text/plain": [
       "                    Coefficient\n",
       "Avg. Area Income  222573.584309"
      ]
     },
     "execution_count": 8,
     "metadata": {},
     "output_type": "execute_result"
    }
   ],
   "source": [
    "\n",
    "x=data[['Avg. Area Income']]#(predictor)or independanat varible\n",
    "y=data['Price']#target or dependat varibe\n",
    "from scipy.stats import zscore\n",
    "\n",
    "x_train,x_test,y_train,y_test=train_test_split(x,y,test_size=0.30,random_state=1)#split data det 70,30\n",
    "from sklearn.preprocessing import StandardScaler\n",
    "x_train = StandardScaler().fit_transform(x_train)\n",
    "x_test = StandardScaler().fit_transform(x_test)\n",
    "\n",
    "l=LinearRegression()\n",
    "l.fit(x_train,y_train)\n",
    "print(\"intecet\",l.intercept_)\n",
    "df1 = pd.DataFrame(l.coef_, x.columns, columns=['Coefficient'])\n",
    "df1\n"
   ]
  },
  {
   "cell_type": "markdown",
   "id": "786f48c5",
   "metadata": {},
   "source": [
    "#Holding all other features fixed, a 1 unit increase in Avg. Area Income is\n",
    "associated with an increase of $222573.584309\n"
   ]
  },
  {
   "cell_type": "code",
   "execution_count": null,
   "id": "b34f671e",
   "metadata": {},
   "outputs": [],
   "source": []
  }
 ],
 "metadata": {
  "kernelspec": {
   "display_name": "Python 3",
   "language": "python",
   "name": "python3"
  },
  "language_info": {
   "codemirror_mode": {
    "name": "ipython",
    "version": 3
   },
   "file_extension": ".py",
   "mimetype": "text/x-python",
   "name": "python",
   "nbconvert_exporter": "python",
   "pygments_lexer": "ipython3",
   "version": "3.8.8"
  }
 },
 "nbformat": 4,
 "nbformat_minor": 5
}
